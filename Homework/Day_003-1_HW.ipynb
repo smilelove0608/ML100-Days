{
 "cells": [
  {
   "cell_type": "markdown",
   "metadata": {},
   "source": [
    "## 練習時間\n",
    "在小量的資料上，我們用眼睛就可以看得出來程式碼是否有跑出我們理想中的結果\n",
    "\n",
    "請嘗試想像一個你需要的資料結構 (裡面的值可以是隨機的)，然後用上述的方法把它變成 pandas DataFrame\n",
    "\n",
    "#### Ex: 想像一個 dataframe 有兩個欄位，一個是國家，一個是人口，求人口數最多的國家\n",
    "\n",
    "### Hints: [隨機產生數值](https://blog.csdn.net/christianashannon/article/details/78867204)"
   ]
  },
  {
   "cell_type": "code",
   "execution_count": 160,
   "metadata": {},
   "outputs": [],
   "source": [
    "import pandas as pd\n",
    "import numpy as np"
   ]
  },
  {
   "cell_type": "code",
   "execution_count": 161,
   "metadata": {},
   "outputs": [
    {
     "name": "stdout",
     "output_type": "stream",
     "text": [
      "    人口   國家\n",
      "0  348   TW\n",
      "1  192  USA\n",
      "2  325   CA\n",
      "3  166   CN\n",
      "4  758   BR\n"
     ]
    }
   ],
   "source": [
    "\n",
    "data = {'國家': ['TW','USA','CA','CN','BR'],\n",
    "        '人口': np.random.randint(1,1000,5)}\n",
    "visitors_1 = pd.DataFrame(data)\n",
    "print(visitors_1)"
   ]
  },
  {
   "cell_type": "code",
   "execution_count": 162,
   "metadata": {},
   "outputs": [
    {
     "name": "stdout",
     "output_type": "stream",
     "text": [
      "    人口   國家\n",
      "3  166   CN\n",
      "1  192  USA\n",
      "2  325   CA\n",
      "0  348   TW\n",
      "4  758   BR\n",
      "758\n",
      "758\n",
      "758\n"
     ]
    }
   ],
   "source": [
    "print (visitors_1.sort_values(by=\"人口\"))\n",
    "print (max(visitors_1.人口))\n",
    "\n",
    "print (visitors_1['人口'].max())\n",
    "print (visitors_1.人口.max())"
   ]
  },
  {
   "cell_type": "code",
   "execution_count": 164,
   "metadata": {},
   "outputs": [
    {
     "name": "stdout",
     "output_type": "stream",
     "text": [
      "國家: BR 人口: 758\n"
     ]
    }
   ],
   "source": [
    "a=visitors_1.sort_values(by=\"人口\")\n",
    "print ('國家:',a.國家[4],'人口:',a.人口[4])"
   ]
  }
 ],
 "metadata": {
  "kernelspec": {
   "display_name": "Python 3",
   "language": "python",
   "name": "python3"
  },
  "language_info": {
   "codemirror_mode": {
    "name": "ipython",
    "version": 3
   },
   "file_extension": ".py",
   "mimetype": "text/x-python",
   "name": "python",
   "nbconvert_exporter": "python",
   "pygments_lexer": "ipython3",
   "version": "3.5.6"
  }
 },
 "nbformat": 4,
 "nbformat_minor": 2
}
