{
 "cells": [
  {
   "cell_type": "code",
   "execution_count": 20,
   "metadata": {},
   "outputs": [
    {
     "name": "stdout",
     "output_type": "stream",
     "text": [
      "ymedacaiynuj\n"
     ]
    }
   ],
   "source": [
    "#題目1(A)\n",
    "class Solution(object):\n",
    "    def restring(self, s):       \n",
    "        a=s[::-1]\n",
    "        return a\n",
    "cc=Solution()\n",
    "print(cc.restring('junyiacademy'))"
   ]
  },
  {
   "cell_type": "code",
   "execution_count": 32,
   "metadata": {},
   "outputs": [
    {
     "name": "stdout",
     "output_type": "stream",
     "text": [
      "deppilf ssalc moor si tnatropmi\n"
     ]
    }
   ],
   "source": [
    "#題目1(B)\n",
    "class Solution(object):\n",
    "    def rewords(self, s):\n",
    "        l = s.split()\n",
    "        k = []\n",
    "        for i in l:\n",
    "            k.append(i[::-1])\n",
    "        t = ' '.join(k)\n",
    "        return t\n",
    "cc=Solution()\n",
    "print(cc.rewords('flipped class room is important'))"
   ]
  },
  {
   "cell_type": "code",
   "execution_count": 44,
   "metadata": {},
   "outputs": [],
   "source": [
    "#題目2\n"
   ]
  },
  {
   "cell_type": "code",
   "execution_count": null,
   "metadata": {},
   "outputs": [],
   "source": [
    "#題目3\n",
    "#先拿鉛筆袋子,若拿出是鉛筆,則有1/3是鉛筆有1/3是混合中的鉛筆1/3是混合中的原子筆,\n",
    "#若拿出是原子筆,則100%為混合袋子,#那原本的原子筆就100%正確,原本的混合的袋子則為鉛筆."
   ]
  },
  {
   "cell_type": "code",
   "execution_count": null,
   "metadata": {},
   "outputs": [],
   "source": [
    "#題目4\n",
    "#因為900-150=750(應該是要-150)\n",
    "#但因為服務生只有退90(-90),然後後方論述再把私吞的60元加上(+60),這樣變成(-90+60=-30)\n",
    "#所以870跟原本的900差30說明如上"
   ]
  }
 ],
 "metadata": {
  "kernelspec": {
   "display_name": "Python 3",
   "language": "python",
   "name": "python3"
  },
  "language_info": {
   "codemirror_mode": {
    "name": "ipython",
    "version": 3
   },
   "file_extension": ".py",
   "mimetype": "text/x-python",
   "name": "python",
   "nbconvert_exporter": "python",
   "pygments_lexer": "ipython3",
   "version": "3.6.8"
  }
 },
 "nbformat": 4,
 "nbformat_minor": 2
}
