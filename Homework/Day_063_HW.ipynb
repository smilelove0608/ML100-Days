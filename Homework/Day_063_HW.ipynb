{
 "cells": [
  {
   "cell_type": "markdown",
   "metadata": {},
   "source": [
    "# 作業\n",
    "* 在精簡深度學習的方式上 : 卷積類神經 (CNN) 採用像素遠近，而遞歸類神經 (RNN) 採用著則是時間遠近\n",
    "* 那麼，既然有著類似的設計精神，兩者是否有可能互換應用呢?"
   ]
  },
  {
   "cell_type": "code",
   "execution_count": 1,
   "metadata": {},
   "outputs": [
    {
     "data": {
      "text/plain": [
       "((3, 4), (3, 1))"
      ]
     },
     "execution_count": 1,
     "metadata": {},
     "output_type": "execute_result"
    }
   ],
   "source": [
    "import numpy as np\n",
    "\n",
    "#Input array\n",
    "X = np.array([[1, 0, 1, 0], [1, 0, 1, 1], [0, 1, 0, 1]])\n",
    "\n",
    "#Output\n",
    "y = np.array([[1], [1], [0]])\n",
    "\n",
    "X.shape, y.shape"
   ]
  },
  {
   "cell_type": "code",
   "execution_count": 2,
   "metadata": {},
   "outputs": [],
   "source": [
    "#Sigmoid Function\n",
    "def sigmoid(x): \n",
    "    return  1/(1+np.exp(-x))\n",
    "\n",
    "#Derivative of Sigmoid Function\n",
    "def derivatives_sigmoid(x): \n",
    "    return x*(1-x)"
   ]
  },
  {
   "cell_type": "code",
   "execution_count": 3,
   "metadata": {},
   "outputs": [],
   "source": [
    "#Variable initialization\n",
    "epoch = 5000 #Setting training iterations\n",
    "lr = 0.1 #Setting learning rate\n",
    "inputlayer_neurons = X.shape[1] #number of features in data set \n",
    "hiddenlayer_neurons = 3 #number of hidden layers neurons\n",
    "output_neurons = 1 #number of neurons at output layer"
   ]
  },
  {
   "cell_type": "code",
   "execution_count": 5,
   "metadata": {},
   "outputs": [],
   "source": [
    "#weight and bias initialization\n",
    "wh = np.random.uniform( size = ( inputlayer_neurons, hiddenlayer_neurons ) ) \n",
    "bh = np.random.uniform( size = ( 1, hiddenlayer_neurons ) ) \n",
    "wout = np.random.uniform( size = ( hiddenlayer_neurons, output_neurons ) ) \n",
    "bout = np.random.uniform( size = ( 1, output_neurons ) )"
   ]
  },
  {
   "cell_type": "code",
   "execution_count": 6,
   "metadata": {},
   "outputs": [
    {
     "name": "stdout",
     "output_type": "stream",
     "text": [
      "X.shape[1]= 4\n",
      "wh = \n",
      " [[0.89667665 0.4311997  0.54057059]\n",
      " [0.7461075  0.23095768 0.9007663 ]\n",
      " [0.31547526 0.58869668 0.30848417]\n",
      " [0.44168409 0.7814843  0.41486917]]\n",
      "\n",
      "bh = \n",
      " [[0.62021031 0.94849875 0.27084822]]\n",
      "\n",
      "wout = \n",
      " [[0.8829767 ]\n",
      " [0.18405637]\n",
      " [0.66663699]]\n",
      "\n",
      "bout = \n",
      " [[0.3102976]]\n",
      "\n"
     ]
    }
   ],
   "source": [
    "print(f'X.shape[1]= {X.shape[1]}')\n",
    "print(f'wh = \\n {wh}\\n')\n",
    "print(f'bh = \\n {bh}\\n')\n",
    "print(f'wout = \\n {wout}\\n')\n",
    "print(f'bout = \\n {bout}\\n')"
   ]
  },
  {
   "cell_type": "markdown",
   "metadata": {},
   "source": [
    "### 請參閱範例中的 hidden Layer 寫法, 完成 output Layer 的程式 "
   ]
  },
  {
   "cell_type": "code",
   "execution_count": 7,
   "metadata": {},
   "outputs": [
    {
     "name": "stdout",
     "output_type": "stream",
     "text": [
      "output of Forward Propogation:\n",
      "[[0.85012532]\n",
      " [0.8620399 ]\n",
      " [0.85614331]]\n",
      "wout,bout of Backpropagation:\n",
      "[[0.8829767 ]\n",
      " [0.18405637]\n",
      " [0.66663699]],\n",
      "[[0.3102976]]\n"
     ]
    }
   ],
   "source": [
    "for i in  range ( epoch ) :\n",
    "    #Forward Propogation\n",
    "    hidden_layer_input1 = np.dot(X, wh) \n",
    "    hidden_layer_input = hidden_layer_input1 + bh\n",
    "    hiddenlayer_activations =  sigmoid( hidden_layer_input ) \n",
    "    \n",
    "    output_layer_input1 = np.dot(hiddenlayer_activations, wout)\n",
    "    output_layer_input = output_layer_input1 + bout\n",
    "    output = sigmoid(output_layer_input)\n",
    "    \n",
    "print ( \"output of Forward Propogation:\\n{}\" .format(output)) \n",
    "print ( \"wout,bout of Backpropagation:\\n{},\\n{}\" .format(wout, bout ))"
   ]
  }
 ],
 "metadata": {
  "kernelspec": {
   "display_name": "Python 3",
   "language": "python",
   "name": "python3"
  },
  "language_info": {
   "codemirror_mode": {
    "name": "ipython",
    "version": 3
   },
   "file_extension": ".py",
   "mimetype": "text/x-python",
   "name": "python",
   "nbconvert_exporter": "python",
   "pygments_lexer": "ipython3",
   "version": "3.6.8"
  }
 },
 "nbformat": 4,
 "nbformat_minor": 2
}
