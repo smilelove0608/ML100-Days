{
 "cells": [
  {
   "cell_type": "markdown",
   "metadata": {},
   "source": [
    "安隆公司詐欺案資料集https://www.kaggle.com/c/ml100marathon/overview\n",
    "\n",
    "[嫌疑犯標籤]\n",
    "\n",
    "poi : 是否是嫌疑人 (True=POI, Flase=Non-POI)\n",
    "\n",
    "[郵件相關]\n",
    "\n",
    "1.email_address                                                                                       \n",
    "2.to_messages : 發送郵件的數量                                                                         \n",
    "3.from_messages : 收到郵件的數量                                                                       \n",
    "4.from_poi_to_this_person: 收到來自POI 的郵件數量                                                       \n",
    "5.from_this_person_to_poi: 發送給POI的郵件數量                                                         \n",
    "6.shared_receipt_with_poi: 收到來自POI抄送郵件的數量\n",
    "\n",
    "[財物相關]\n",
    "\n",
    "1.salary : 工資                                                                                       \n",
    "2.bonus : 獎金                                                                                       \n",
    "3.long_term_incentive : 長期激勵報酬                                                                   \n",
    "4.deferred_income : 延期收入                                                                           \n",
    "5.deferral_payments : 延期薪資                                                                         \n",
    "6.loan_advances : 預支貸款                                                                             \n",
    "7.other                                                                                               \n",
    "8.expenses : 開支                                                                                     \n",
    "9.director_fees : 董事費                                                                               \n",
    "10.total_payments : 總薪資與獎金                                                                       \n",
    "11.exercised_stock_options : 已使用的股票期權                                                         \n",
    "12.restricted_stock : 受限股票                                                                         \n",
    "13.restricted_stock_deferred: 延期的受限股票                                                           \n",
    "14.total_stock_value : 總股票價值                                                                     \n",
    "\n",
    "有關資料集中財務資料欄位的特徵: ['salary', 'deferral_payments', 'total_payments', 'loan_advances', 'bonus', 'restricted_stock_deferred', 'deferred_income', 'total_stock_value', 'expenses', 'exercised_stock_options', 'other', 'long_term_incentive', 'restricted_stock', 'director_fees'] (單位皆為美元)。\n",
    "\n",
    "有關 email 的特徵: ['to_messages', 'email_address', 'from_poi_to_this_person', 'from_messages', 'from_this_person_to_poi', 'shared_receipt_with_poi'] (除了 email_address，其餘皆為次數)\n",
    "\n",
    "因此，財務資料得資料應該都是連續型的數字資料，email 通訊的資料欄位應該都是離散型的數字資料。"
   ]
  },
  {
   "cell_type": "code",
   "execution_count": 23,
   "metadata": {},
   "outputs": [],
   "source": [
    "#載入分析套件及資料集\n",
    "%matplotlib inline\n",
    "import pandas as pd\n",
    "import numpy as np\n",
    "import matplotlib.pyplot as plt\n",
    "import seaborn as sns\n",
    "from sklearn.ensemble import GradientBoostingClassifier\n",
    "from sklearn.model_selection import train_test_split,GridSearchCV,learning_curve,cross_val_score\n",
    "from sklearn.preprocessing import LabelEncoder,MinMaxScaler\n",
    "from sklearn import metrics\n",
    "\n",
    "#解決分類樣本數量不平衡的狀況的套件\n",
    "from imblearn.over_sampling import SMOTE"
   ]
  },
  {
   "cell_type": "code",
   "execution_count": 24,
   "metadata": {
    "scrolled": true
   },
   "outputs": [
    {
     "name": "stdout",
     "output_type": "stream",
     "text": [
      "<class 'pandas.core.frame.DataFrame'>\n",
      "RangeIndex: 113 entries, 0 to 112\n",
      "Data columns (total 22 columns):\n",
      "name                         113 non-null object\n",
      "bonus                        61 non-null float64\n",
      "deferral_payments            28 non-null float64\n",
      "deferred_income              34 non-null float64\n",
      "director_fees                13 non-null float64\n",
      "email_address                83 non-null object\n",
      "exercised_stock_options      81 non-null float64\n",
      "expenses                     73 non-null float64\n",
      "from_messages                65 non-null float64\n",
      "from_poi_to_this_person      65 non-null float64\n",
      "from_this_person_to_poi      65 non-null float64\n",
      "loan_advances                2 non-null float64\n",
      "long_term_incentive          49 non-null float64\n",
      "other                        69 non-null float64\n",
      "poi                          113 non-null bool\n",
      "restricted_stock             82 non-null float64\n",
      "restricted_stock_deferred    10 non-null float64\n",
      "salary                       73 non-null float64\n",
      "shared_receipt_with_poi      65 non-null float64\n",
      "to_messages                  65 non-null float64\n",
      "total_payments               96 non-null float64\n",
      "total_stock_value            98 non-null float64\n",
      "dtypes: bool(1), float64(19), object(2)\n",
      "memory usage: 18.7+ KB\n"
     ]
    }
   ],
   "source": [
    "#讀取資料集\n",
    "df = pd.read_csv('train_data.csv')\n",
    "train_Y = df['poi']\n",
    "\n",
    "df.info()"
   ]
  },
  {
   "cell_type": "markdown",
   "metadata": {},
   "source": [
    "### 資料集中共有22個欄位，其他欄位都或多或少有缺值"
   ]
  },
  {
   "cell_type": "code",
   "execution_count": 25,
   "metadata": {},
   "outputs": [],
   "source": [
    "#email address 欄位沒有特別意義先拿掉， loan_advances 欄位缺失值太多，不具代表意義，所以也移除，poi 是分類標籤所以也拿掉\n",
    "df= df.drop(['poi','email_address','loan_advances'],axis=1)"
   ]
  },
  {
   "cell_type": "code",
   "execution_count": 26,
   "metadata": {},
   "outputs": [
    {
     "name": "stdout",
     "output_type": "stream",
     "text": [
      "<class 'pandas.core.frame.DataFrame'>\n",
      "RangeIndex: 113 entries, 0 to 112\n",
      "Data columns (total 19 columns):\n",
      "name                         113 non-null object\n",
      "bonus                        61 non-null float64\n",
      "deferral_payments            28 non-null float64\n",
      "deferred_income              34 non-null float64\n",
      "director_fees                13 non-null float64\n",
      "exercised_stock_options      81 non-null float64\n",
      "expenses                     73 non-null float64\n",
      "from_messages                65 non-null float64\n",
      "from_poi_to_this_person      65 non-null float64\n",
      "from_this_person_to_poi      65 non-null float64\n",
      "long_term_incentive          49 non-null float64\n",
      "other                        69 non-null float64\n",
      "restricted_stock             82 non-null float64\n",
      "restricted_stock_deferred    10 non-null float64\n",
      "salary                       73 non-null float64\n",
      "shared_receipt_with_poi      65 non-null float64\n",
      "to_messages                  65 non-null float64\n",
      "total_payments               96 non-null float64\n",
      "total_stock_value            98 non-null float64\n",
      "dtypes: float64(18), object(1)\n",
      "memory usage: 16.9+ KB\n"
     ]
    }
   ],
   "source": [
    "df.info()"
   ]
  },
  {
   "cell_type": "code",
   "execution_count": 27,
   "metadata": {},
   "outputs": [],
   "source": [
    "#建立資料清理函數\n",
    "\n",
    "def DataClean(df_temp):\n",
    "    num_col = ['salary', 'deferral_payments', 'total_payments', 'bonus', 'restricted_stock_deferred', 'deferred_income', 'total_stock_value', 'expenses', 'exercised_stock_options', 'other', 'long_term_incentive', 'restricted_stock', 'director_fees']\n",
    "    count_col = ['to_messages', 'from_poi_to_this_person', 'from_messages', 'from_this_person_to_poi', 'shared_receipt_with_poi'] \n",
    "    \n",
    "    df_clean=df_temp.copy()\n",
    "    #數字型欄位， 遺失值用欄位眾數來補 \n",
    "    for col in num_col:\n",
    "        df_clean[col] = df_clean[col].fillna(df_clean[col].mode())\n",
    "        df_clean[col] = df_clean[col].abs()  \n",
    "\n",
    "    #記數值欄都是郵件往來次數，所以遺失值補 0 比較合理\n",
    "    for col in count_col:\n",
    "        df_clean[col] = df_clean[col].fillna(0)\n",
    "        df_clean[col] = df_clean[col].abs()  \n",
    "    \n",
    "    df_clean['name'] = LabelEncoder().fit_transform(df_clean['name'])\n",
    "       \n",
    "    return df_clean\n",
    "\n",
    "#建立特徵工程函數\n",
    "def Feature_eng(df_temp):    \n",
    "    df_FE = df_temp.copy()\n",
    "    \n",
    "    ''' \n",
    "    新增特徵值\n",
    "    total_asset = 總薪資及獎金 + 總股票價值\n",
    "    total_communication = 收到來自POI 的郵件數量 + 發送給POI的郵件數量\n",
    "    '''\n",
    "\n",
    "    df_FE['total_asset'] = df_FE['total_payments'] + df_FE['total_stock_value']\n",
    "    df_FE['total_communication'] = df_FE['from_poi_to_this_person'] + df_FE['from_this_person_to_poi']\n",
    "    \n",
    "    df_FE = df_FE.fillna(0)\n",
    "   \n",
    "    return df_FE"
   ]
  },
  {
   "cell_type": "code",
   "execution_count": 28,
   "metadata": {},
   "outputs": [
    {
     "data": {
      "text/html": [
       "<div>\n",
       "<style scoped>\n",
       "    .dataframe tbody tr th:only-of-type {\n",
       "        vertical-align: middle;\n",
       "    }\n",
       "\n",
       "    .dataframe tbody tr th {\n",
       "        vertical-align: top;\n",
       "    }\n",
       "\n",
       "    .dataframe thead th {\n",
       "        text-align: right;\n",
       "    }\n",
       "</style>\n",
       "<table border=\"1\" class=\"dataframe\">\n",
       "  <thead>\n",
       "    <tr style=\"text-align: right;\">\n",
       "      <th></th>\n",
       "      <th>name</th>\n",
       "      <th>bonus</th>\n",
       "      <th>deferral_payments</th>\n",
       "      <th>deferred_income</th>\n",
       "      <th>director_fees</th>\n",
       "      <th>exercised_stock_options</th>\n",
       "      <th>expenses</th>\n",
       "      <th>from_messages</th>\n",
       "      <th>from_poi_to_this_person</th>\n",
       "      <th>from_this_person_to_poi</th>\n",
       "      <th>...</th>\n",
       "      <th>other</th>\n",
       "      <th>restricted_stock</th>\n",
       "      <th>restricted_stock_deferred</th>\n",
       "      <th>salary</th>\n",
       "      <th>shared_receipt_with_poi</th>\n",
       "      <th>to_messages</th>\n",
       "      <th>total_payments</th>\n",
       "      <th>total_stock_value</th>\n",
       "      <th>total_asset</th>\n",
       "      <th>total_communication</th>\n",
       "    </tr>\n",
       "  </thead>\n",
       "  <tbody>\n",
       "    <tr>\n",
       "      <th>count</th>\n",
       "      <td>113.00000</td>\n",
       "      <td>1.130000e+02</td>\n",
       "      <td>1.130000e+02</td>\n",
       "      <td>1.130000e+02</td>\n",
       "      <td>113.000000</td>\n",
       "      <td>1.130000e+02</td>\n",
       "      <td>113.000000</td>\n",
       "      <td>113.000000</td>\n",
       "      <td>113.000000</td>\n",
       "      <td>113.000000</td>\n",
       "      <td>...</td>\n",
       "      <td>1.130000e+02</td>\n",
       "      <td>1.130000e+02</td>\n",
       "      <td>113.000000</td>\n",
       "      <td>1.130000e+02</td>\n",
       "      <td>113.000000</td>\n",
       "      <td>113.000000</td>\n",
       "      <td>1.130000e+02</td>\n",
       "      <td>1.130000e+02</td>\n",
       "      <td>1.130000e+02</td>\n",
       "      <td>113.000000</td>\n",
       "    </tr>\n",
       "    <tr>\n",
       "      <th>mean</th>\n",
       "      <td>56.00000</td>\n",
       "      <td>6.194126e+05</td>\n",
       "      <td>3.033747e+05</td>\n",
       "      <td>1.391793e+05</td>\n",
       "      <td>20569.415929</td>\n",
       "      <td>2.139748e+06</td>\n",
       "      <td>32973.097345</td>\n",
       "      <td>409.168142</td>\n",
       "      <td>37.274336</td>\n",
       "      <td>23.061947</td>\n",
       "      <td>...</td>\n",
       "      <td>3.286061e+05</td>\n",
       "      <td>9.396291e+05</td>\n",
       "      <td>40832.619469</td>\n",
       "      <td>2.376472e+05</td>\n",
       "      <td>639.283186</td>\n",
       "      <td>1240.212389</td>\n",
       "      <td>2.416590e+06</td>\n",
       "      <td>3.059712e+06</td>\n",
       "      <td>5.379631e+06</td>\n",
       "      <td>60.336283</td>\n",
       "    </tr>\n",
       "    <tr>\n",
       "      <th>std</th>\n",
       "      <td>32.76431</td>\n",
       "      <td>1.242456e+06</td>\n",
       "      <td>6.766507e+05</td>\n",
       "      <td>4.883707e+05</td>\n",
       "      <td>42321.857381</td>\n",
       "      <td>5.251192e+06</td>\n",
       "      <td>45358.746287</td>\n",
       "      <td>1607.452015</td>\n",
       "      <td>76.533402</td>\n",
       "      <td>70.089392</td>\n",
       "      <td>...</td>\n",
       "      <td>1.076375e+06</td>\n",
       "      <td>2.202460e+06</td>\n",
       "      <td>117796.853724</td>\n",
       "      <td>1.965296e+05</td>\n",
       "      <td>1039.799616</td>\n",
       "      <td>2379.796707</td>\n",
       "      <td>9.784445e+06</td>\n",
       "      <td>6.791577e+06</td>\n",
       "      <td>1.519515e+07</td>\n",
       "      <td>132.743214</td>\n",
       "    </tr>\n",
       "    <tr>\n",
       "      <th>min</th>\n",
       "      <td>0.00000</td>\n",
       "      <td>0.000000e+00</td>\n",
       "      <td>0.000000e+00</td>\n",
       "      <td>0.000000e+00</td>\n",
       "      <td>0.000000</td>\n",
       "      <td>0.000000e+00</td>\n",
       "      <td>0.000000</td>\n",
       "      <td>0.000000</td>\n",
       "      <td>0.000000</td>\n",
       "      <td>0.000000</td>\n",
       "      <td>...</td>\n",
       "      <td>0.000000e+00</td>\n",
       "      <td>0.000000e+00</td>\n",
       "      <td>0.000000</td>\n",
       "      <td>0.000000e+00</td>\n",
       "      <td>0.000000</td>\n",
       "      <td>0.000000</td>\n",
       "      <td>0.000000e+00</td>\n",
       "      <td>0.000000e+00</td>\n",
       "      <td>0.000000e+00</td>\n",
       "      <td>0.000000</td>\n",
       "    </tr>\n",
       "    <tr>\n",
       "      <th>25%</th>\n",
       "      <td>28.00000</td>\n",
       "      <td>0.000000e+00</td>\n",
       "      <td>0.000000e+00</td>\n",
       "      <td>0.000000e+00</td>\n",
       "      <td>0.000000</td>\n",
       "      <td>0.000000e+00</td>\n",
       "      <td>0.000000</td>\n",
       "      <td>0.000000</td>\n",
       "      <td>0.000000</td>\n",
       "      <td>0.000000</td>\n",
       "      <td>...</td>\n",
       "      <td>1.760000e+02</td>\n",
       "      <td>0.000000e+00</td>\n",
       "      <td>0.000000</td>\n",
       "      <td>1.584030e+05</td>\n",
       "      <td>0.000000</td>\n",
       "      <td>0.000000</td>\n",
       "      <td>2.497870e+05</td>\n",
       "      <td>2.211410e+05</td>\n",
       "      <td>1.015896e+06</td>\n",
       "      <td>0.000000</td>\n",
       "    </tr>\n",
       "    <tr>\n",
       "      <th>50%</th>\n",
       "      <td>56.00000</td>\n",
       "      <td>2.500000e+05</td>\n",
       "      <td>0.000000e+00</td>\n",
       "      <td>0.000000e+00</td>\n",
       "      <td>0.000000</td>\n",
       "      <td>4.934890e+05</td>\n",
       "      <td>16514.000000</td>\n",
       "      <td>16.000000</td>\n",
       "      <td>0.000000</td>\n",
       "      <td>0.000000</td>\n",
       "      <td>...</td>\n",
       "      <td>2.856000e+03</td>\n",
       "      <td>3.605280e+05</td>\n",
       "      <td>0.000000</td>\n",
       "      <td>2.473380e+05</td>\n",
       "      <td>71.000000</td>\n",
       "      <td>232.000000</td>\n",
       "      <td>1.099100e+06</td>\n",
       "      <td>8.802900e+05</td>\n",
       "      <td>2.217774e+06</td>\n",
       "      <td>4.000000</td>\n",
       "    </tr>\n",
       "    <tr>\n",
       "      <th>75%</th>\n",
       "      <td>84.00000</td>\n",
       "      <td>7.500000e+05</td>\n",
       "      <td>1.819930e+05</td>\n",
       "      <td>2.500000e+04</td>\n",
       "      <td>0.000000</td>\n",
       "      <td>1.624396e+06</td>\n",
       "      <td>50080.000000</td>\n",
       "      <td>59.000000</td>\n",
       "      <td>37.000000</td>\n",
       "      <td>11.000000</td>\n",
       "      <td>...</td>\n",
       "      <td>2.774640e+05</td>\n",
       "      <td>6.982420e+05</td>\n",
       "      <td>0.000000</td>\n",
       "      <td>2.885420e+05</td>\n",
       "      <td>742.000000</td>\n",
       "      <td>1433.000000</td>\n",
       "      <td>1.934359e+06</td>\n",
       "      <td>2.072035e+06</td>\n",
       "      <td>4.618918e+06</td>\n",
       "      <td>50.000000</td>\n",
       "    </tr>\n",
       "    <tr>\n",
       "      <th>max</th>\n",
       "      <td>112.00000</td>\n",
       "      <td>8.000000e+06</td>\n",
       "      <td>2.964506e+06</td>\n",
       "      <td>3.504386e+06</td>\n",
       "      <td>125034.000000</td>\n",
       "      <td>3.434838e+07</td>\n",
       "      <td>228763.000000</td>\n",
       "      <td>14368.000000</td>\n",
       "      <td>528.000000</td>\n",
       "      <td>411.000000</td>\n",
       "      <td>...</td>\n",
       "      <td>1.035973e+07</td>\n",
       "      <td>1.476169e+07</td>\n",
       "      <td>560222.000000</td>\n",
       "      <td>1.111258e+06</td>\n",
       "      <td>4527.000000</td>\n",
       "      <td>15149.000000</td>\n",
       "      <td>1.035598e+08</td>\n",
       "      <td>4.911008e+07</td>\n",
       "      <td>1.526699e+08</td>\n",
       "      <td>939.000000</td>\n",
       "    </tr>\n",
       "  </tbody>\n",
       "</table>\n",
       "<p>8 rows × 21 columns</p>\n",
       "</div>"
      ],
      "text/plain": [
       "            name         bonus  deferral_payments  deferred_income  \\\n",
       "count  113.00000  1.130000e+02       1.130000e+02     1.130000e+02   \n",
       "mean    56.00000  6.194126e+05       3.033747e+05     1.391793e+05   \n",
       "std     32.76431  1.242456e+06       6.766507e+05     4.883707e+05   \n",
       "min      0.00000  0.000000e+00       0.000000e+00     0.000000e+00   \n",
       "25%     28.00000  0.000000e+00       0.000000e+00     0.000000e+00   \n",
       "50%     56.00000  2.500000e+05       0.000000e+00     0.000000e+00   \n",
       "75%     84.00000  7.500000e+05       1.819930e+05     2.500000e+04   \n",
       "max    112.00000  8.000000e+06       2.964506e+06     3.504386e+06   \n",
       "\n",
       "       director_fees  exercised_stock_options       expenses  from_messages  \\\n",
       "count     113.000000             1.130000e+02     113.000000     113.000000   \n",
       "mean    20569.415929             2.139748e+06   32973.097345     409.168142   \n",
       "std     42321.857381             5.251192e+06   45358.746287    1607.452015   \n",
       "min         0.000000             0.000000e+00       0.000000       0.000000   \n",
       "25%         0.000000             0.000000e+00       0.000000       0.000000   \n",
       "50%         0.000000             4.934890e+05   16514.000000      16.000000   \n",
       "75%         0.000000             1.624396e+06   50080.000000      59.000000   \n",
       "max    125034.000000             3.434838e+07  228763.000000   14368.000000   \n",
       "\n",
       "       from_poi_to_this_person  from_this_person_to_poi         ...           \\\n",
       "count               113.000000               113.000000         ...            \n",
       "mean                 37.274336                23.061947         ...            \n",
       "std                  76.533402                70.089392         ...            \n",
       "min                   0.000000                 0.000000         ...            \n",
       "25%                   0.000000                 0.000000         ...            \n",
       "50%                   0.000000                 0.000000         ...            \n",
       "75%                  37.000000                11.000000         ...            \n",
       "max                 528.000000               411.000000         ...            \n",
       "\n",
       "              other  restricted_stock  restricted_stock_deferred  \\\n",
       "count  1.130000e+02      1.130000e+02                 113.000000   \n",
       "mean   3.286061e+05      9.396291e+05               40832.619469   \n",
       "std    1.076375e+06      2.202460e+06              117796.853724   \n",
       "min    0.000000e+00      0.000000e+00                   0.000000   \n",
       "25%    1.760000e+02      0.000000e+00                   0.000000   \n",
       "50%    2.856000e+03      3.605280e+05                   0.000000   \n",
       "75%    2.774640e+05      6.982420e+05                   0.000000   \n",
       "max    1.035973e+07      1.476169e+07              560222.000000   \n",
       "\n",
       "             salary  shared_receipt_with_poi   to_messages  total_payments  \\\n",
       "count  1.130000e+02               113.000000    113.000000    1.130000e+02   \n",
       "mean   2.376472e+05               639.283186   1240.212389    2.416590e+06   \n",
       "std    1.965296e+05              1039.799616   2379.796707    9.784445e+06   \n",
       "min    0.000000e+00                 0.000000      0.000000    0.000000e+00   \n",
       "25%    1.584030e+05                 0.000000      0.000000    2.497870e+05   \n",
       "50%    2.473380e+05                71.000000    232.000000    1.099100e+06   \n",
       "75%    2.885420e+05               742.000000   1433.000000    1.934359e+06   \n",
       "max    1.111258e+06              4527.000000  15149.000000    1.035598e+08   \n",
       "\n",
       "       total_stock_value   total_asset  total_communication  \n",
       "count       1.130000e+02  1.130000e+02           113.000000  \n",
       "mean        3.059712e+06  5.379631e+06            60.336283  \n",
       "std         6.791577e+06  1.519515e+07           132.743214  \n",
       "min         0.000000e+00  0.000000e+00             0.000000  \n",
       "25%         2.211410e+05  1.015896e+06             0.000000  \n",
       "50%         8.802900e+05  2.217774e+06             4.000000  \n",
       "75%         2.072035e+06  4.618918e+06            50.000000  \n",
       "max         4.911008e+07  1.526699e+08           939.000000  \n",
       "\n",
       "[8 rows x 21 columns]"
      ]
     },
     "execution_count": 28,
     "metadata": {},
     "output_type": "execute_result"
    }
   ],
   "source": [
    "#對訓練資料集做資料清理及特徵工程\n",
    "df_train = DataClean(df)\n",
    "df_train = Feature_eng(df_train)\n",
    "df_train.describe()"
   ]
  },
  {
   "cell_type": "code",
   "execution_count": 29,
   "metadata": {},
   "outputs": [
    {
     "data": {
      "text/html": [
       "<div>\n",
       "<style scoped>\n",
       "    .dataframe tbody tr th:only-of-type {\n",
       "        vertical-align: middle;\n",
       "    }\n",
       "\n",
       "    .dataframe tbody tr th {\n",
       "        vertical-align: top;\n",
       "    }\n",
       "\n",
       "    .dataframe thead th {\n",
       "        text-align: right;\n",
       "    }\n",
       "</style>\n",
       "<table border=\"1\" class=\"dataframe\">\n",
       "  <thead>\n",
       "    <tr style=\"text-align: right;\">\n",
       "      <th></th>\n",
       "      <th>name</th>\n",
       "      <th>bonus</th>\n",
       "      <th>deferral_payments</th>\n",
       "      <th>deferred_income</th>\n",
       "      <th>director_fees</th>\n",
       "      <th>exercised_stock_options</th>\n",
       "      <th>expenses</th>\n",
       "      <th>from_messages</th>\n",
       "      <th>from_poi_to_this_person</th>\n",
       "      <th>from_this_person_to_poi</th>\n",
       "      <th>...</th>\n",
       "      <th>other</th>\n",
       "      <th>restricted_stock</th>\n",
       "      <th>restricted_stock_deferred</th>\n",
       "      <th>salary</th>\n",
       "      <th>shared_receipt_with_poi</th>\n",
       "      <th>to_messages</th>\n",
       "      <th>total_payments</th>\n",
       "      <th>total_stock_value</th>\n",
       "      <th>total_asset</th>\n",
       "      <th>total_communication</th>\n",
       "    </tr>\n",
       "  </thead>\n",
       "  <tbody>\n",
       "    <tr>\n",
       "      <th>0</th>\n",
       "      <td>84</td>\n",
       "      <td>1750000.0</td>\n",
       "      <td>102500.0</td>\n",
       "      <td>3504386.0</td>\n",
       "      <td>3285.0</td>\n",
       "      <td>19794175.0</td>\n",
       "      <td>46950.0</td>\n",
       "      <td>18.0</td>\n",
       "      <td>42.0</td>\n",
       "      <td>4.0</td>\n",
       "      <td>...</td>\n",
       "      <td>174839.0</td>\n",
       "      <td>2748364.0</td>\n",
       "      <td>560222.0</td>\n",
       "      <td>420636.0</td>\n",
       "      <td>864.0</td>\n",
       "      <td>905.0</td>\n",
       "      <td>505050.0</td>\n",
       "      <td>22542539.0</td>\n",
       "      <td>23047589.0</td>\n",
       "      <td>46.0</td>\n",
       "    </tr>\n",
       "    <tr>\n",
       "      <th>1</th>\n",
       "      <td>92</td>\n",
       "      <td>5600000.0</td>\n",
       "      <td>7961.0</td>\n",
       "      <td>0.0</td>\n",
       "      <td>17500.0</td>\n",
       "      <td>19250000.0</td>\n",
       "      <td>29336.0</td>\n",
       "      <td>108.0</td>\n",
       "      <td>88.0</td>\n",
       "      <td>30.0</td>\n",
       "      <td>...</td>\n",
       "      <td>22122.0</td>\n",
       "      <td>6843672.0</td>\n",
       "      <td>472568.0</td>\n",
       "      <td>1111258.0</td>\n",
       "      <td>2042.0</td>\n",
       "      <td>3627.0</td>\n",
       "      <td>8682716.0</td>\n",
       "      <td>26093672.0</td>\n",
       "      <td>34776388.0</td>\n",
       "      <td>118.0</td>\n",
       "    </tr>\n",
       "    <tr>\n",
       "      <th>2</th>\n",
       "      <td>91</td>\n",
       "      <td>200000.0</td>\n",
       "      <td>10259.0</td>\n",
       "      <td>4167.0</td>\n",
       "      <td>36666.0</td>\n",
       "      <td>1624396.0</td>\n",
       "      <td>22884.0</td>\n",
       "      <td>39.0</td>\n",
       "      <td>13.0</td>\n",
       "      <td>14.0</td>\n",
       "      <td>...</td>\n",
       "      <td>1573324.0</td>\n",
       "      <td>869220.0</td>\n",
       "      <td>409554.0</td>\n",
       "      <td>211844.0</td>\n",
       "      <td>91.0</td>\n",
       "      <td>225.0</td>\n",
       "      <td>2003885.0</td>\n",
       "      <td>2493616.0</td>\n",
       "      <td>4497501.0</td>\n",
       "      <td>27.0</td>\n",
       "    </tr>\n",
       "    <tr>\n",
       "      <th>3</th>\n",
       "      <td>58</td>\n",
       "      <td>800000.0</td>\n",
       "      <td>16586.0</td>\n",
       "      <td>0.0</td>\n",
       "      <td>101250.0</td>\n",
       "      <td>0.0</td>\n",
       "      <td>118134.0</td>\n",
       "      <td>0.0</td>\n",
       "      <td>0.0</td>\n",
       "      <td>0.0</td>\n",
       "      <td>...</td>\n",
       "      <td>907502.0</td>\n",
       "      <td>985032.0</td>\n",
       "      <td>329825.0</td>\n",
       "      <td>224305.0</td>\n",
       "      <td>0.0</td>\n",
       "      <td>0.0</td>\n",
       "      <td>2652612.0</td>\n",
       "      <td>985032.0</td>\n",
       "      <td>3637644.0</td>\n",
       "      <td>0.0</td>\n",
       "    </tr>\n",
       "    <tr>\n",
       "      <th>4</th>\n",
       "      <td>15</td>\n",
       "      <td>1250000.0</td>\n",
       "      <td>27610.0</td>\n",
       "      <td>262500.0</td>\n",
       "      <td>102492.0</td>\n",
       "      <td>0.0</td>\n",
       "      <td>35818.0</td>\n",
       "      <td>144.0</td>\n",
       "      <td>199.0</td>\n",
       "      <td>25.0</td>\n",
       "      <td>...</td>\n",
       "      <td>486.0</td>\n",
       "      <td>126027.0</td>\n",
       "      <td>153686.0</td>\n",
       "      <td>240189.0</td>\n",
       "      <td>2188.0</td>\n",
       "      <td>2598.0</td>\n",
       "      <td>1639297.0</td>\n",
       "      <td>126027.0</td>\n",
       "      <td>1765324.0</td>\n",
       "      <td>224.0</td>\n",
       "    </tr>\n",
       "  </tbody>\n",
       "</table>\n",
       "<p>5 rows × 21 columns</p>\n",
       "</div>"
      ],
      "text/plain": [
       "   name      bonus  deferral_payments  deferred_income  director_fees  \\\n",
       "0    84  1750000.0           102500.0        3504386.0         3285.0   \n",
       "1    92  5600000.0             7961.0              0.0        17500.0   \n",
       "2    91   200000.0            10259.0           4167.0        36666.0   \n",
       "3    58   800000.0            16586.0              0.0       101250.0   \n",
       "4    15  1250000.0            27610.0         262500.0       102492.0   \n",
       "\n",
       "   exercised_stock_options  expenses  from_messages  from_poi_to_this_person  \\\n",
       "0               19794175.0   46950.0           18.0                     42.0   \n",
       "1               19250000.0   29336.0          108.0                     88.0   \n",
       "2                1624396.0   22884.0           39.0                     13.0   \n",
       "3                      0.0  118134.0            0.0                      0.0   \n",
       "4                      0.0   35818.0          144.0                    199.0   \n",
       "\n",
       "   from_this_person_to_poi         ...               other  restricted_stock  \\\n",
       "0                      4.0         ...            174839.0         2748364.0   \n",
       "1                     30.0         ...             22122.0         6843672.0   \n",
       "2                     14.0         ...           1573324.0          869220.0   \n",
       "3                      0.0         ...            907502.0          985032.0   \n",
       "4                     25.0         ...               486.0          126027.0   \n",
       "\n",
       "   restricted_stock_deferred     salary  shared_receipt_with_poi  to_messages  \\\n",
       "0                   560222.0   420636.0                    864.0        905.0   \n",
       "1                   472568.0  1111258.0                   2042.0       3627.0   \n",
       "2                   409554.0   211844.0                     91.0        225.0   \n",
       "3                   329825.0   224305.0                      0.0          0.0   \n",
       "4                   153686.0   240189.0                   2188.0       2598.0   \n",
       "\n",
       "   total_payments  total_stock_value  total_asset  total_communication  \n",
       "0        505050.0         22542539.0   23047589.0                 46.0  \n",
       "1       8682716.0         26093672.0   34776388.0                118.0  \n",
       "2       2003885.0          2493616.0    4497501.0                 27.0  \n",
       "3       2652612.0           985032.0    3637644.0                  0.0  \n",
       "4       1639297.0           126027.0    1765324.0                224.0  \n",
       "\n",
       "[5 rows x 21 columns]"
      ]
     },
     "execution_count": 29,
     "metadata": {},
     "output_type": "execute_result"
    }
   ],
   "source": [
    "df_train.head()"
   ]
  },
  {
   "cell_type": "code",
   "execution_count": 30,
   "metadata": {},
   "outputs": [
    {
     "name": "stdout",
     "output_type": "stream",
     "text": [
      "<class 'pandas.core.frame.DataFrame'>\n",
      "RangeIndex: 113 entries, 0 to 112\n",
      "Data columns (total 21 columns):\n",
      "name                         113 non-null int64\n",
      "bonus                        113 non-null float64\n",
      "deferral_payments            113 non-null float64\n",
      "deferred_income              113 non-null float64\n",
      "director_fees                113 non-null float64\n",
      "exercised_stock_options      113 non-null float64\n",
      "expenses                     113 non-null float64\n",
      "from_messages                113 non-null float64\n",
      "from_poi_to_this_person      113 non-null float64\n",
      "from_this_person_to_poi      113 non-null float64\n",
      "long_term_incentive          113 non-null float64\n",
      "other                        113 non-null float64\n",
      "restricted_stock             113 non-null float64\n",
      "restricted_stock_deferred    113 non-null float64\n",
      "salary                       113 non-null float64\n",
      "shared_receipt_with_poi      113 non-null float64\n",
      "to_messages                  113 non-null float64\n",
      "total_payments               113 non-null float64\n",
      "total_stock_value            113 non-null float64\n",
      "total_asset                  113 non-null float64\n",
      "total_communication          113 non-null float64\n",
      "dtypes: float64(20), int64(1)\n",
      "memory usage: 18.6 KB\n"
     ]
    }
   ],
   "source": [
    "df_train.info()"
   ]
  },
  {
   "cell_type": "markdown",
   "metadata": {},
   "source": [
    "### 資料前處理後，訓練資料集總共有21個特徵欄位(原本22-刪除3+新增2)"
   ]
  },
  {
   "cell_type": "code",
   "execution_count": 31,
   "metadata": {},
   "outputs": [
    {
     "data": {
      "image/png": "[encoded data removed]",
      "text/plain": [
       "<Figure size 1080x5400 with 21 Axes>"
      ]
     },
     "metadata": {
      "needs_background": "light"
     },
     "output_type": "display_data"
    }
   ],
   "source": [
    "#將訓練資料集的每個特徵值畫出值發圖看資料分布\n",
    "fig_cols = 4\n",
    "fig_rows = len(df_train.columns)\n",
    "\n",
    "plt.figure(figsize=(15,75))\n",
    "for i,col in enumerate (df_train.columns):\n",
    "    plt.subplot(fig_rows,fig_cols,i+1)\n",
    "    df_train[col].hist()\n",
    "    plt.title(str(col))\n",
    "plt.show()"
   ]
  },
  {
   "cell_type": "markdown",
   "metadata": {},
   "source": [
    "### 經過資料清理及特徵工程之後，從直方圖中顯示各項特徵都呈現很嚴重的偏態。因為大部分的員工都應該是守法的人，所以詐欺案的嫌疑人反而應該算是一種的異常值，因此正常的模型是要排除資料異常值，但是在這裡反而應該是要凸顯異常值以利分類模型去做判斷。所以資料清理的過程中針對異常值不做排除的動作，也特別選用要凸顯異常值的方式來填補缺失值"
   ]
  },
  {
   "cell_type": "code",
   "execution_count": 32,
   "metadata": {},
   "outputs": [
    {
     "name": "stdout",
     "output_type": "stream",
     "text": [
      "The POI are 13 , The Non-POI are 100\n"
     ]
    },
    {
     "data": {
      "text/plain": [
       "<BarContainer object of 2 artists>"
      ]
     },
     "execution_count": 32,
     "metadata": {},
     "output_type": "execute_result"
    },
    {
     "data": {
      "image/png": "[encoded data removed]",
      "text/plain": [
       "<Figure size 432x288 with 1 Axes>"
      ]
     },
     "metadata": {
      "needs_background": "light"
     },
     "output_type": "display_data"
    }
   ],
   "source": [
    "#顯示訓練資料集中 POI 的數量 \n",
    "POI_num = [len(train_Y[train_Y==True]),len(train_Y[train_Y==False])]\n",
    "print(f'The POI are {POI_num[0]} , The Non-POI are {POI_num[1]}')\n",
    "plt.title('POI summary')\n",
    "plt.bar(['POI', 'Non_POI'],POI_num)"
   ]
  },
  {
   "cell_type": "markdown",
   "metadata": {},
   "source": [
    "###  原始訓練資料集中的嫌疑人有 13人，非嫌疑人有 100人。"
   ]
  },
  {
   "cell_type": "markdown",
   "metadata": {},
   "source": [
    "### 分類標籤的比例呈現不平衡的狀態，為使分割後的訓練資料集及測試資料集在POI的比例上能達到1:1的狀態，以利訓練模型時不會特別偏重在非嫌疑人的類別，因此需要透過人工合成樣本的方式來增加嫌疑人類別的特徵資料"
   ]
  },
  {
   "cell_type": "code",
   "execution_count": 33,
   "metadata": {},
   "outputs": [],
   "source": [
    "#將訓練資料集透過 SMOTE 技術，將不平衡的 POI Label 調整為 True :Fales = 1:1  \n",
    "sm = SMOTE(random_state=4)\n",
    "train_data_res,train_Y_res = sm.fit_sample(df_train, train_Y.ravel())\n",
    "train_data_res = pd.DataFrame(train_data_res,columns=df_train.columns)"
   ]
  },
  {
   "cell_type": "code",
   "execution_count": 34,
   "metadata": {},
   "outputs": [
    {
     "data": {
      "text/plain": [
       "array([ True,  True,  True,  True,  True,  True,  True,  True,  True,\n",
       "        True,  True,  True,  True, False, False, False, False, False,\n",
       "       False, False, False, False, False, False, False, False, False,\n",
       "       False, False, False, False, False, False, False, False, False,\n",
       "       False, False, False, False, False, False, False, False, False,\n",
       "       False, False, False, False, False, False, False, False, False,\n",
       "       False, False, False, False, False, False, False, False, False,\n",
       "       False, False, False, False, False, False, False, False, False,\n",
       "       False, False, False, False, False, False, False, False, False,\n",
       "       False, False, False, False, False, False, False, False, False,\n",
       "       False, False, False, False, False, False, False, False, False,\n",
       "       False, False, False, False, False, False, False, False, False,\n",
       "       False, False, False, False, False,  True,  True,  True,  True,\n",
       "        True,  True,  True,  True,  True,  True,  True,  True,  True,\n",
       "        True,  True,  True,  True,  True,  True,  True,  True,  True,\n",
       "        True,  True,  True,  True,  True,  True,  True,  True,  True,\n",
       "        True,  True,  True,  True,  True,  True,  True,  True,  True,\n",
       "        True,  True,  True,  True,  True,  True,  True,  True,  True,\n",
       "        True,  True,  True,  True,  True,  True,  True,  True,  True,\n",
       "        True,  True,  True,  True,  True,  True,  True,  True,  True,\n",
       "        True,  True,  True,  True,  True,  True,  True,  True,  True,\n",
       "        True,  True,  True,  True,  True,  True,  True,  True,  True,\n",
       "        True,  True])"
      ]
     },
     "execution_count": 34,
     "metadata": {},
     "output_type": "execute_result"
    }
   ],
   "source": [
    "train_Y_res"
   ]
  },
  {
   "cell_type": "code",
   "execution_count": 35,
   "metadata": {},
   "outputs": [
    {
     "name": "stdout",
     "output_type": "stream",
     "text": [
      "The POI are 100 , The Non-POI are 100\n"
     ]
    },
    {
     "data": {
      "text/plain": [
       "<BarContainer object of 2 artists>"
      ]
     },
     "execution_count": 35,
     "metadata": {},
     "output_type": "execute_result"
    },
    {
     "data": {
      "image/png": "[encoded data removed]",
      "text/plain": [
       "<Figure size 432x288 with 1 Axes>"
      ]
     },
     "metadata": {
      "needs_background": "light"
     },
     "output_type": "display_data"
    }
   ],
   "source": [
    "#顯示 train_Y_res 中 POI 的數量 \n",
    "POI_num1 = [len(train_Y_res[train_Y_res==True]),len(train_Y_res[train_Y_res==False])]\n",
    "print(f'The POI are {POI_num1[0]} , The Non-POI are {POI_num1[1]}')\n",
    "plt.title('POI1 summary')\n",
    "plt.bar(['POI1', 'Non_POI1'],POI_num1)"
   ]
  },
  {
   "cell_type": "markdown",
   "metadata": {},
   "source": [
    "### 開始訓練模型及驗證模型績效"
   ]
  },
  {
   "cell_type": "code",
   "execution_count": 36,
   "metadata": {},
   "outputs": [
    {
     "data": {
      "text/plain": [
       "director_fees                0.591239\n",
       "total_asset                  0.158761\n",
       "restricted_stock_deferred    0.020000\n",
       "total_communication          0.000000\n",
       "from_poi_to_this_person      0.000000\n",
       "bonus                        0.000000\n",
       "deferral_payments            0.000000\n",
       "deferred_income              0.000000\n",
       "exercised_stock_options      0.000000\n",
       "expenses                     0.000000\n",
       "from_messages                0.000000\n",
       "long_term_incentive          0.000000\n",
       "from_this_person_to_poi      0.000000\n",
       "other                        0.000000\n",
       "restricted_stock             0.000000\n",
       "salary                       0.000000\n",
       "shared_receipt_with_poi      0.000000\n",
       "to_messages                  0.000000\n",
       "total_payments               0.000000\n",
       "total_stock_value            0.000000\n",
       "name                         0.000000\n",
       "dtype: float64"
      ]
     },
     "execution_count": 36,
     "metadata": {},
     "output_type": "execute_result"
    }
   ],
   "source": [
    "#建立梯度提升機\n",
    "GBclf = GradientBoostingClassifier()\n",
    "\n",
    "#特徵選擇\n",
    "GBclf.fit(train_data_res, train_Y_res)\n",
    "feats = pd.Series(data=GBclf.feature_importances_, index=train_data_res.columns)\n",
    "feats = feats.sort_values(ascending=False)\n",
    "feats"
   ]
  },
  {
   "cell_type": "code",
   "execution_count": 37,
   "metadata": {},
   "outputs": [
    {
     "data": {
      "image/png": "[encoded data removed]",
      "text/plain": [
       "<Figure size 432x288 with 1 Axes>"
      ]
     },
     "metadata": {
      "needs_background": "light"
     },
     "output_type": "display_data"
    }
   ],
   "source": [
    "plt.title('Top features')\n",
    "plt.barh(feats.index,feats*150)\n",
    "plt.show()\n",
    "#director_fees = 董事費\n",
    "#total_asset = 總薪資及獎金 + 總股票價值"
   ]
  },
  {
   "cell_type": "code",
   "execution_count": 38,
   "metadata": {},
   "outputs": [],
   "source": [
    "vaidScore=[]#交叉驗證\n",
    "accScore=[]#分類準確率分數是指所有分類正確的百分比\n",
    "recallScore=[]#召回率:所有準確的項目有多少被檢索出來\n",
    "F1Score=[]#f1-score\n",
    "randomState=4\n",
    "\n",
    "for i in range(1,(len(train_data_res.columns)+1)//2):\n",
    "    topfeatures = list(feats[:i].index)\n",
    "    x_train, x_test, y_train, y_test = train_test_split(train_data_res[topfeatures],train_Y_res,\n",
    "                                                    test_size=0.25, random_state=randomState)  \n",
    "    GBclf.fit(x_train, y_train)\n",
    "    y_pred = GBclf.predict(x_test)\n",
    "\n",
    "    accScore.append(GBclf.score(x_test,y_test))\n",
    "    vaidScore.append(cross_val_score(GBclf, x_train, y_train, cv=7).mean())\n",
    "    recallScore.append(metrics.recall_score(y_true=y_test,y_pred=y_pred))\n",
    "    F1Score.append(metrics.f1_score(y_true=y_test,y_pred=y_pred))"
   ]
  },
  {
   "cell_type": "code",
   "execution_count": 39,
   "metadata": {},
   "outputs": [
    {
     "data": {
      "image/png": "[encoded data removed]",
      "text/plain": [
       "<Figure size 432x288 with 1 Axes>"
      ]
     },
     "metadata": {
      "needs_background": "light"
     },
     "output_type": "display_data"
    }
   ],
   "source": [
    "plt.plot(range(len(train_data_res.columns)//2),accScore,color='blue',label='training accuracy Score')\n",
    "plt.plot(range(len(train_data_res.columns)//2),vaidScore,color='red',label='valid cccuracy Score')\n",
    "\n",
    "plt.legend(loc='lower right')\n",
    "plt.title('The Accuracy Score for top_frature numbers')\n",
    "plt.xlabel('number of top_features')\n",
    "plt.ylabel('Accuracy score')\n",
    "plt.show()"
   ]
  },
  {
   "cell_type": "code",
   "execution_count": 40,
   "metadata": {},
   "outputs": [
    {
     "data": {
      "image/png": "[encoded data removed]",
      "text/plain": [
       "<Figure size 432x288 with 1 Axes>"
      ]
     },
     "metadata": {
      "needs_background": "light"
     },
     "output_type": "display_data"
    }
   ],
   "source": [
    "plt.plot(range(len(train_data_res.columns)//2),recallScore,color='green',label='recall accuracy Score')\n",
    "plt.plot(range(len(train_data_res.columns)//2),F1Score,linestyle='--',color='red',label='F1 Score')\n",
    "plt.legend(loc='lower right')\n",
    "plt.title('The F1 Score for top_frature numbers')\n",
    "plt.xlabel('number of top_features')\n",
    "plt.ylabel('score')\n",
    "plt.show()"
   ]
  },
  {
   "cell_type": "markdown",
   "metadata": {},
   "source": [
    "### 經梯度提升樹的特徵選擇，前三項特徵已經呈現很明顯的重要性，但保險起見保留一點其他特徵的影響，故選用前五項特徵值來訓練模型。原本的訓練資料集有 21 個欄位，最後降維剩用五個特徵值來建立分類模型即可。 "
   ]
  },
  {
   "cell_type": "code",
   "execution_count": 41,
   "metadata": {},
   "outputs": [],
   "source": [
    "#分割訓練資料集及驗證資料集\n",
    "topfeatures = list(feats[:5].index)\n",
    "\n",
    "x_train, x_test, y_train, y_test = train_test_split(train_data_res[topfeatures],train_Y_res,\n",
    "                                                    test_size=0.25, random_state=randomState)"
   ]
  },
  {
   "cell_type": "code",
   "execution_count": 42,
   "metadata": {},
   "outputs": [],
   "source": [
    "#使用前五大特徵值來畫模型的學習曲線\n",
    "cv=7\n",
    "\n",
    "train_sizes,train_scores,test_scores=learning_curve(estimator=GBclf,X=x_train,y=y_train,\n",
    "                                                    train_sizes=np.linspace(0.1,1.0,10),\n",
    "                                                     cv=cv,n_jobs=-1)\n",
    "train_mean=np.mean(train_scores,axis=1)\n",
    "train_std=np.std(train_scores,axis=1)\n",
    "test_mean=np.mean(test_scores,axis=1)\n",
    "test_std=np.std(test_scores,axis=1)"
   ]
  },
  {
   "cell_type": "code",
   "execution_count": 51,
   "metadata": {},
   "outputs": [
    {
     "data": {
      "image/png": "[encoded data removed]",
      "text/plain": [
       "<Figure size 432x288 with 1 Axes>"
      ]
     },
     "metadata": {
      "needs_background": "light"
     },
     "output_type": "display_data"
    }
   ],
   "source": [
    "plt.plot(train_sizes,train_mean,color='blue',marker='o',markersize=5,label='training accuracy')\n",
    "plt.fill_between(train_sizes,train_mean+train_std,train_mean-train_std,alpha=0.15,color='blue')\n",
    "\n",
    "plt.plot(train_sizes,test_mean,color='green',linestyle='--',marker='s',markersize=5,label='validation accuracy')\n",
    "plt.fill_between(train_sizes,test_mean+test_std,test_mean-test_std,alpha=0.15,color='green')\n",
    "\n",
    "plt.grid()\n",
    "plt.xlabel('Number of training samples')\n",
    "plt.ylabel('Accuracy')\n",
    "plt.legend(loc='lower right')\n",
    "plt.ylim([0.8,1.05])\n",
    "plt.title('The Learning Curve with top_5 features ')\n",
    "plt.show()"
   ]
  },
  {
   "cell_type": "markdown",
   "metadata": {},
   "source": [
    "### 訓練資料集的數量能達到120 筆以上的話，驗證準確度會更接近訓練準確度 "
   ]
  },
  {
   "cell_type": "code",
   "execution_count": 52,
   "metadata": {},
   "outputs": [
    {
     "name": "stdout",
     "output_type": "stream",
     "text": [
      "The size of training data : 150\n"
     ]
    }
   ],
   "source": [
    "print(f'The size of training data : {len(x_train)}')"
   ]
  },
  {
   "cell_type": "markdown",
   "metadata": {},
   "source": [
    "### 訓練集的資料150，已達 120 以上，應該可以訓練出高準確度的模型"
   ]
  },
  {
   "cell_type": "code",
   "execution_count": 53,
   "metadata": {},
   "outputs": [
    {
     "name": "stdout",
     "output_type": "stream",
     "text": [
      "Gradient Boosting Clf Score : 0.9931972789115646\n"
     ]
    }
   ],
   "source": [
    "#先交叉驗證一下模型分數\n",
    "print(f'Gradient Boosting Clf Score : {cross_val_score(GBclf, x_train, y_train, cv=cv).mean()}')"
   ]
  },
  {
   "cell_type": "code",
   "execution_count": 54,
   "metadata": {},
   "outputs": [
    {
     "name": "stdout",
     "output_type": "stream",
     "text": [
      "Acc score : 1.0 \n",
      "\n",
      "             precision    recall  f1-score   support\n",
      "\n",
      "      False       1.00      1.00      1.00        23\n",
      "       True       1.00      1.00      1.00        27\n",
      "\n",
      "avg / total       1.00      1.00      1.00        50\n",
      "\n"
     ]
    }
   ],
   "source": [
    "#開始訓練模型及驗證模型能力\n",
    "GBclf.fit(x_train, y_train)\n",
    "y_pred = GBclf.predict(x_test)\n",
    "\n",
    "print(f'Acc score : {GBclf.score(x_test,y_test)} \\n')\n",
    "print(metrics.classification_report(y_test, y_pred))"
   ]
  },
  {
   "cell_type": "code",
   "execution_count": 55,
   "metadata": {},
   "outputs": [
    {
     "data": {
      "image/png": "[encoded data removed]",
      "text/plain": [
       "<Figure size 432x288 with 2 Axes>"
      ]
     },
     "metadata": {
      "needs_background": "light"
     },
     "output_type": "display_data"
    }
   ],
   "source": [
    "#使用混淆矩陣驗證分類的正確率\n",
    "confmat = metrics.confusion_matrix(y_test, y_pred)\n",
    "sns.heatmap(confmat, cmap='YlGnBu_r', annot=True, fmt='d');"
   ]
  },
  {
   "cell_type": "markdown",
   "metadata": {},
   "source": [
    "### 用預設參數來建立的模型，各項評估指標已呈現極高的辨識率。可見前五項特徵值應是足夠。"
   ]
  },
  {
   "cell_type": "code",
   "execution_count": 56,
   "metadata": {},
   "outputs": [
    {
     "name": "stdout",
     "output_type": "stream",
     "text": [
      "Best Accuracy: 0.9933333333333333 using {'max_depth': 1, 'n_estimators': 150}\n"
     ]
    }
   ],
   "source": [
    "#設定要訓練的超參數組合\n",
    "n_estimators = [50 ,100, 150, 200, 250, 500]\n",
    "max_depth = [1,3, 5, 7, 9, 11]\n",
    "param_grid = dict(n_estimators=n_estimators, max_depth=max_depth)\n",
    "\n",
    "#建立搜尋物件，放入模型及參數組合字典 (n_jobs=-1 會使用全部 cpu 平行運算)\n",
    "grid_search = GridSearchCV(GBclf, param_grid, scoring='accuracy', n_jobs=-1,cv=cv,iid =True)\n",
    "\n",
    "# 開始搜尋最佳參數\n",
    "grid_result = grid_search.fit(x_train, y_train)\n",
    "print(f'Best Accuracy: {grid_result.best_score_} using {grid_result.best_params_}')"
   ]
  },
  {
   "cell_type": "code",
   "execution_count": 57,
   "metadata": {},
   "outputs": [],
   "source": [
    "# 使用最佳參數重新建立模型\n",
    "clf_bestparam = GradientBoostingClassifier(max_depth = grid_result.best_params_['max_depth'],\n",
    "                                           n_estimators = grid_result.best_params_['n_estimators'],\\\n",
    "                                           random_state = randomState)"
   ]
  },
  {
   "cell_type": "code",
   "execution_count": 58,
   "metadata": {},
   "outputs": [],
   "source": [
    "#使用前五大特徵值來畫clf_bestparam模型的學習曲線\n",
    "train_sizes,train_scores,test_scores=learning_curve(estimator=clf_bestparam,X=x_train,\n",
    "                                                     y=y_train,train_sizes=np.linspace(0.1,1.0,10),\n",
    "                                                     cv=cv,n_jobs=-1)\n",
    "train_mean=np.mean(train_scores,axis=1)\n",
    "train_std=np.std(train_scores,axis=1)\n",
    "\n",
    "test_mean=np.mean(test_scores,axis=1)\n",
    "test_std=np.std(test_scores,axis=1)"
   ]
  },
  {
   "cell_type": "code",
   "execution_count": 59,
   "metadata": {},
   "outputs": [
    {
     "data": {
      "image/png": "[encoded data removed]",
      "text/plain": [
       "<Figure size 432x288 with 1 Axes>"
      ]
     },
     "metadata": {
      "needs_background": "light"
     },
     "output_type": "display_data"
    }
   ],
   "source": [
    "plt.plot(train_sizes,train_mean,color='blue',marker='o',markersize=5,label='training accuracy')\n",
    "plt.fill_between(train_sizes,train_mean+train_std,train_mean-train_std,alpha=0.15,color='blue')\n",
    "\n",
    "plt.plot(train_sizes,test_mean,color='green',linestyle='--',marker='s',markersize=5,\n",
    "         label='validation accuracy')\n",
    "plt.fill_between(train_sizes,test_mean+test_std,test_mean-test_std,alpha=0.15,color='green')\n",
    "\n",
    "plt.grid()\n",
    "plt.xlabel('Number of training samples')\n",
    "plt.ylabel('Accuracy')\n",
    "plt.legend(loc='lower right')\n",
    "plt.ylim([0.8,1.05])\n",
    "plt.title('The Learning Curve with top_5 features ')\n",
    "plt.show()"
   ]
  },
  {
   "cell_type": "code",
   "execution_count": 60,
   "metadata": {},
   "outputs": [
    {
     "name": "stdout",
     "output_type": "stream",
     "text": [
      "Acuuracy of Best Param: 1.0 \n",
      "\n",
      "             precision    recall  f1-score   support\n",
      "\n",
      "      False       1.00      1.00      1.00        23\n",
      "       True       1.00      1.00      1.00        27\n",
      "\n",
      "avg / total       1.00      1.00      1.00        50\n",
      "\n"
     ]
    }
   ],
   "source": [
    "# 訓練clf_bestparam模型\n",
    "clf_bestparam.fit(x_train, y_train)\n",
    "\n",
    "# 預測測試集\n",
    "y_pred = clf_bestparam.predict(x_test)\n",
    "\n",
    "print(f'Acuuracy of Best Param: {clf_bestparam.score(x_test,y_test)} \\n')\n",
    "print(metrics.classification_report(y_test, y_pred))"
   ]
  },
  {
   "cell_type": "code",
   "execution_count": 61,
   "metadata": {},
   "outputs": [
    {
     "data": {
      "text/plain": [
       "<matplotlib.axes._subplots.AxesSubplot at 0x23edb3de278>"
      ]
     },
     "execution_count": 61,
     "metadata": {},
     "output_type": "execute_result"
    },
    {
     "data": {
      "image/png": "[encoded data removed]",
      "text/plain": [
       "<Figure size 432x288 with 2 Axes>"
      ]
     },
     "metadata": {
      "needs_background": "light"
     },
     "output_type": "display_data"
    }
   ],
   "source": [
    "#使用混淆矩陣驗證分類的正確率\n",
    "confmat = metrics.confusion_matrix(y_test, y_pred)\n",
    "sns.heatmap(confmat, cmap='YlGnBu_r', annot=True, fmt='d')"
   ]
  },
  {
   "cell_type": "markdown",
   "metadata": {},
   "source": [
    "### 經網格搜尋最佳的超參數之後，經過調整後的模型，辨識率也是極接近100%"
   ]
  },
  {
   "cell_type": "markdown",
   "metadata": {},
   "source": [
    "### 將測試資料集套入訓練好的模型進行最終預測"
   ]
  },
  {
   "cell_type": "code",
   "execution_count": 62,
   "metadata": {},
   "outputs": [
    {
     "name": "stdout",
     "output_type": "stream",
     "text": [
      "<class 'pandas.core.frame.DataFrame'>\n",
      "RangeIndex: 33 entries, 0 to 32\n",
      "Data columns (total 19 columns):\n",
      "name                         33 non-null object\n",
      "bonus                        21 non-null float64\n",
      "deferral_payments            11 non-null float64\n",
      "deferred_income              15 non-null float64\n",
      "director_fees                4 non-null float64\n",
      "exercised_stock_options      21 non-null float64\n",
      "expenses                     22 non-null float64\n",
      "from_messages                21 non-null float64\n",
      "from_poi_to_this_person      21 non-null float64\n",
      "from_this_person_to_poi      21 non-null float64\n",
      "long_term_incentive          17 non-null float64\n",
      "other                        24 non-null float64\n",
      "restricted_stock             28 non-null float64\n",
      "restricted_stock_deferred    8 non-null float64\n",
      "salary                       22 non-null float64\n",
      "shared_receipt_with_poi      21 non-null float64\n",
      "to_messages                  21 non-null float64\n",
      "total_payments               29 non-null float64\n",
      "total_stock_value            28 non-null float64\n",
      "dtypes: float64(18), object(1)\n",
      "memory usage: 5.0+ KB\n"
     ]
    }
   ],
   "source": [
    "#使用測試資料集套入模型進行最後預測\n",
    "df1 = pd.read_csv('test_features.csv')\n",
    "df1 = df1.drop(['email_address','loan_advances'],axis=1)\n",
    "\n",
    "df1.info()"
   ]
  },
  {
   "cell_type": "code",
   "execution_count": 63,
   "metadata": {},
   "outputs": [],
   "source": [
    "#針對各欄位的遺失值做資料清理及特徵工程\n",
    "df_test = DataClean(df1)\n",
    "df_test = Feature_eng(df_test)"
   ]
  },
  {
   "cell_type": "code",
   "execution_count": 64,
   "metadata": {},
   "outputs": [
    {
     "data": {
      "text/html": [
       "<div>\n",
       "<style scoped>\n",
       "    .dataframe tbody tr th:only-of-type {\n",
       "        vertical-align: middle;\n",
       "    }\n",
       "\n",
       "    .dataframe tbody tr th {\n",
       "        vertical-align: top;\n",
       "    }\n",
       "\n",
       "    .dataframe thead th {\n",
       "        text-align: right;\n",
       "    }\n",
       "</style>\n",
       "<table border=\"1\" class=\"dataframe\">\n",
       "  <thead>\n",
       "    <tr style=\"text-align: right;\">\n",
       "      <th></th>\n",
       "      <th>director_fees</th>\n",
       "      <th>total_asset</th>\n",
       "      <th>restricted_stock_deferred</th>\n",
       "      <th>total_communication</th>\n",
       "      <th>from_poi_to_this_person</th>\n",
       "    </tr>\n",
       "  </thead>\n",
       "  <tbody>\n",
       "    <tr>\n",
       "      <th>0</th>\n",
       "      <td>38346.0</td>\n",
       "      <td>6612335.0</td>\n",
       "      <td>7576788.0</td>\n",
       "      <td>336.0</td>\n",
       "      <td>228.0</td>\n",
       "    </tr>\n",
       "    <tr>\n",
       "      <th>1</th>\n",
       "      <td>98784.0</td>\n",
       "      <td>2921644.0</td>\n",
       "      <td>1787380.0</td>\n",
       "      <td>155.0</td>\n",
       "      <td>140.0</td>\n",
       "    </tr>\n",
       "    <tr>\n",
       "      <th>2</th>\n",
       "      <td>137864.0</td>\n",
       "      <td>6679747.0</td>\n",
       "      <td>315068.0</td>\n",
       "      <td>53.0</td>\n",
       "      <td>32.0</td>\n",
       "    </tr>\n",
       "    <tr>\n",
       "      <th>3</th>\n",
       "      <td>1398517.0</td>\n",
       "      <td>8362240.0</td>\n",
       "      <td>307301.0</td>\n",
       "      <td>675.0</td>\n",
       "      <td>66.0</td>\n",
       "    </tr>\n",
       "    <tr>\n",
       "      <th>4</th>\n",
       "      <td>0.0</td>\n",
       "      <td>4370821.0</td>\n",
       "      <td>140264.0</td>\n",
       "      <td>70.0</td>\n",
       "      <td>58.0</td>\n",
       "    </tr>\n",
       "    <tr>\n",
       "      <th>5</th>\n",
       "      <td>0.0</td>\n",
       "      <td>2522892.0</td>\n",
       "      <td>82782.0</td>\n",
       "      <td>41.0</td>\n",
       "      <td>40.0</td>\n",
       "    </tr>\n",
       "    <tr>\n",
       "      <th>6</th>\n",
       "      <td>0.0</td>\n",
       "      <td>31874715.0</td>\n",
       "      <td>32460.0</td>\n",
       "      <td>248.0</td>\n",
       "      <td>242.0</td>\n",
       "    </tr>\n",
       "    <tr>\n",
       "      <th>7</th>\n",
       "      <td>98784.0</td>\n",
       "      <td>1594677.0</td>\n",
       "      <td>32460.0</td>\n",
       "      <td>0.0</td>\n",
       "      <td>0.0</td>\n",
       "    </tr>\n",
       "    <tr>\n",
       "      <th>8</th>\n",
       "      <td>0.0</td>\n",
       "      <td>1956748.0</td>\n",
       "      <td>0.0</td>\n",
       "      <td>199.0</td>\n",
       "      <td>188.0</td>\n",
       "    </tr>\n",
       "    <tr>\n",
       "      <th>9</th>\n",
       "      <td>0.0</td>\n",
       "      <td>4616366.0</td>\n",
       "      <td>140264.0</td>\n",
       "      <td>0.0</td>\n",
       "      <td>0.0</td>\n",
       "    </tr>\n",
       "    <tr>\n",
       "      <th>10</th>\n",
       "      <td>0.0</td>\n",
       "      <td>10388508.0</td>\n",
       "      <td>0.0</td>\n",
       "      <td>59.0</td>\n",
       "      <td>44.0</td>\n",
       "    </tr>\n",
       "    <tr>\n",
       "      <th>11</th>\n",
       "      <td>0.0</td>\n",
       "      <td>1726237.0</td>\n",
       "      <td>0.0</td>\n",
       "      <td>10.0</td>\n",
       "      <td>10.0</td>\n",
       "    </tr>\n",
       "    <tr>\n",
       "      <th>12</th>\n",
       "      <td>0.0</td>\n",
       "      <td>2708357.0</td>\n",
       "      <td>0.0</td>\n",
       "      <td>57.0</td>\n",
       "      <td>39.0</td>\n",
       "    </tr>\n",
       "    <tr>\n",
       "      <th>13</th>\n",
       "      <td>38346.0</td>\n",
       "      <td>1834619.0</td>\n",
       "      <td>0.0</td>\n",
       "      <td>0.0</td>\n",
       "      <td>0.0</td>\n",
       "    </tr>\n",
       "    <tr>\n",
       "      <th>14</th>\n",
       "      <td>0.0</td>\n",
       "      <td>9382894.0</td>\n",
       "      <td>1787380.0</td>\n",
       "      <td>84.0</td>\n",
       "      <td>64.0</td>\n",
       "    </tr>\n",
       "    <tr>\n",
       "      <th>15</th>\n",
       "      <td>0.0</td>\n",
       "      <td>1251887.0</td>\n",
       "      <td>0.0</td>\n",
       "      <td>1.0</td>\n",
       "      <td>0.0</td>\n",
       "    </tr>\n",
       "    <tr>\n",
       "      <th>16</th>\n",
       "      <td>0.0</td>\n",
       "      <td>3232448.0</td>\n",
       "      <td>315068.0</td>\n",
       "      <td>0.0</td>\n",
       "      <td>0.0</td>\n",
       "    </tr>\n",
       "    <tr>\n",
       "      <th>17</th>\n",
       "      <td>0.0</td>\n",
       "      <td>1739242.0</td>\n",
       "      <td>0.0</td>\n",
       "      <td>0.0</td>\n",
       "      <td>0.0</td>\n",
       "    </tr>\n",
       "    <tr>\n",
       "      <th>18</th>\n",
       "      <td>0.0</td>\n",
       "      <td>890710.0</td>\n",
       "      <td>82782.0</td>\n",
       "      <td>0.0</td>\n",
       "      <td>0.0</td>\n",
       "    </tr>\n",
       "    <tr>\n",
       "      <th>19</th>\n",
       "      <td>0.0</td>\n",
       "      <td>1659388.0</td>\n",
       "      <td>0.0</td>\n",
       "      <td>0.0</td>\n",
       "      <td>0.0</td>\n",
       "    </tr>\n",
       "    <tr>\n",
       "      <th>20</th>\n",
       "      <td>1398517.0</td>\n",
       "      <td>744396096.0</td>\n",
       "      <td>7576788.0</td>\n",
       "      <td>0.0</td>\n",
       "      <td>0.0</td>\n",
       "    </tr>\n",
       "    <tr>\n",
       "      <th>21</th>\n",
       "      <td>0.0</td>\n",
       "      <td>6008739.0</td>\n",
       "      <td>0.0</td>\n",
       "      <td>79.0</td>\n",
       "      <td>42.0</td>\n",
       "    </tr>\n",
       "    <tr>\n",
       "      <th>22</th>\n",
       "      <td>0.0</td>\n",
       "      <td>1646889.0</td>\n",
       "      <td>0.0</td>\n",
       "      <td>39.0</td>\n",
       "      <td>38.0</td>\n",
       "    </tr>\n",
       "    <tr>\n",
       "      <th>23</th>\n",
       "      <td>0.0</td>\n",
       "      <td>6580648.0</td>\n",
       "      <td>0.0</td>\n",
       "      <td>0.0</td>\n",
       "      <td>0.0</td>\n",
       "    </tr>\n",
       "    <tr>\n",
       "      <th>24</th>\n",
       "      <td>0.0</td>\n",
       "      <td>837032.0</td>\n",
       "      <td>0.0</td>\n",
       "      <td>0.0</td>\n",
       "      <td>0.0</td>\n",
       "    </tr>\n",
       "    <tr>\n",
       "      <th>25</th>\n",
       "      <td>0.0</td>\n",
       "      <td>9309470.0</td>\n",
       "      <td>307301.0</td>\n",
       "      <td>36.0</td>\n",
       "      <td>29.0</td>\n",
       "    </tr>\n",
       "    <tr>\n",
       "      <th>26</th>\n",
       "      <td>137864.0</td>\n",
       "      <td>30078475.0</td>\n",
       "      <td>15456290.0</td>\n",
       "      <td>1.0</td>\n",
       "      <td>0.0</td>\n",
       "    </tr>\n",
       "    <tr>\n",
       "      <th>27</th>\n",
       "      <td>0.0</td>\n",
       "      <td>1117739.0</td>\n",
       "      <td>0.0</td>\n",
       "      <td>0.0</td>\n",
       "      <td>0.0</td>\n",
       "    </tr>\n",
       "    <tr>\n",
       "      <th>28</th>\n",
       "      <td>0.0</td>\n",
       "      <td>3891409.0</td>\n",
       "      <td>0.0</td>\n",
       "      <td>31.0</td>\n",
       "      <td>23.0</td>\n",
       "    </tr>\n",
       "    <tr>\n",
       "      <th>29</th>\n",
       "      <td>0.0</td>\n",
       "      <td>7464370.0</td>\n",
       "      <td>0.0</td>\n",
       "      <td>51.0</td>\n",
       "      <td>28.0</td>\n",
       "    </tr>\n",
       "    <tr>\n",
       "      <th>30</th>\n",
       "      <td>0.0</td>\n",
       "      <td>3184797.0</td>\n",
       "      <td>0.0</td>\n",
       "      <td>0.0</td>\n",
       "      <td>0.0</td>\n",
       "    </tr>\n",
       "    <tr>\n",
       "      <th>31</th>\n",
       "      <td>0.0</td>\n",
       "      <td>3940097.0</td>\n",
       "      <td>0.0</td>\n",
       "      <td>0.0</td>\n",
       "      <td>0.0</td>\n",
       "    </tr>\n",
       "    <tr>\n",
       "      <th>32</th>\n",
       "      <td>0.0</td>\n",
       "      <td>5762626.0</td>\n",
       "      <td>0.0</td>\n",
       "      <td>84.0</td>\n",
       "      <td>58.0</td>\n",
       "    </tr>\n",
       "  </tbody>\n",
       "</table>\n",
       "</div>"
      ],
      "text/plain": [
       "    director_fees  total_asset  restricted_stock_deferred  \\\n",
       "0         38346.0    6612335.0                  7576788.0   \n",
       "1         98784.0    2921644.0                  1787380.0   \n",
       "2        137864.0    6679747.0                   315068.0   \n",
       "3       1398517.0    8362240.0                   307301.0   \n",
       "4             0.0    4370821.0                   140264.0   \n",
       "5             0.0    2522892.0                    82782.0   \n",
       "6             0.0   31874715.0                    32460.0   \n",
       "7         98784.0    1594677.0                    32460.0   \n",
       "8             0.0    1956748.0                        0.0   \n",
       "9             0.0    4616366.0                   140264.0   \n",
       "10            0.0   10388508.0                        0.0   \n",
       "11            0.0    1726237.0                        0.0   \n",
       "12            0.0    2708357.0                        0.0   \n",
       "13        38346.0    1834619.0                        0.0   \n",
       "14            0.0    9382894.0                  1787380.0   \n",
       "15            0.0    1251887.0                        0.0   \n",
       "16            0.0    3232448.0                   315068.0   \n",
       "17            0.0    1739242.0                        0.0   \n",
       "18            0.0     890710.0                    82782.0   \n",
       "19            0.0    1659388.0                        0.0   \n",
       "20      1398517.0  744396096.0                  7576788.0   \n",
       "21            0.0    6008739.0                        0.0   \n",
       "22            0.0    1646889.0                        0.0   \n",
       "23            0.0    6580648.0                        0.0   \n",
       "24            0.0     837032.0                        0.0   \n",
       "25            0.0    9309470.0                   307301.0   \n",
       "26       137864.0   30078475.0                 15456290.0   \n",
       "27            0.0    1117739.0                        0.0   \n",
       "28            0.0    3891409.0                        0.0   \n",
       "29            0.0    7464370.0                        0.0   \n",
       "30            0.0    3184797.0                        0.0   \n",
       "31            0.0    3940097.0                        0.0   \n",
       "32            0.0    5762626.0                        0.0   \n",
       "\n",
       "    total_communication  from_poi_to_this_person  \n",
       "0                 336.0                    228.0  \n",
       "1                 155.0                    140.0  \n",
       "2                  53.0                     32.0  \n",
       "3                 675.0                     66.0  \n",
       "4                  70.0                     58.0  \n",
       "5                  41.0                     40.0  \n",
       "6                 248.0                    242.0  \n",
       "7                   0.0                      0.0  \n",
       "8                 199.0                    188.0  \n",
       "9                   0.0                      0.0  \n",
       "10                 59.0                     44.0  \n",
       "11                 10.0                     10.0  \n",
       "12                 57.0                     39.0  \n",
       "13                  0.0                      0.0  \n",
       "14                 84.0                     64.0  \n",
       "15                  1.0                      0.0  \n",
       "16                  0.0                      0.0  \n",
       "17                  0.0                      0.0  \n",
       "18                  0.0                      0.0  \n",
       "19                  0.0                      0.0  \n",
       "20                  0.0                      0.0  \n",
       "21                 79.0                     42.0  \n",
       "22                 39.0                     38.0  \n",
       "23                  0.0                      0.0  \n",
       "24                  0.0                      0.0  \n",
       "25                 36.0                     29.0  \n",
       "26                  1.0                      0.0  \n",
       "27                  0.0                      0.0  \n",
       "28                 31.0                     23.0  \n",
       "29                 51.0                     28.0  \n",
       "30                  0.0                      0.0  \n",
       "31                  0.0                      0.0  \n",
       "32                 84.0                     58.0  "
      ]
     },
     "execution_count": 64,
     "metadata": {},
     "output_type": "execute_result"
    }
   ],
   "source": [
    "df_test[topfeatures]"
   ]
  },
  {
   "cell_type": "code",
   "execution_count": 65,
   "metadata": {},
   "outputs": [],
   "source": [
    "#最後將測試資料集套入模型預測\n",
    "y_pred = clf_bestparam.predict_proba(df_test[topfeatures]) \n",
    "POI_P = pd.DataFrame(y_pred)"
   ]
  },
  {
   "cell_type": "code",
   "execution_count": 66,
   "metadata": {},
   "outputs": [
    {
     "name": "stdout",
     "output_type": "stream",
     "text": [
      "                    name       poi\n",
      "0       BELDEN TIMOTHY N  0.001506\n",
      "1     BOWEN JR RAYMOND M  0.001506\n",
      "2         HANNON KEVIN P  0.001506\n",
      "3       DELAINEY DAVID W  0.001506\n",
      "4       CAUSEY RICHARD A  0.995005\n",
      "5       HICKERSON GARY J  0.995005\n",
      "6         FREVERT MARK A  0.995005\n",
      "7            CHAN RONNIE  0.003855\n",
      "8   DONAHUE JR JEFFREY M  0.998476\n",
      "9      REYNOLDS LAWRENCE  0.996281\n",
      "10      HORTON STANLEY C  0.998476\n",
      "11         LEWIS RICHARD  0.999201\n",
      "12    SHERRICK JEFFREY B  0.998476\n",
      "13        MEYER JEROME J  0.006627\n",
      "14   DERRICK JR. JAMES V  0.995005\n",
      "15              PIRO JIM  0.999406\n",
      "16   DETMERING TIMOTHY J  0.996281\n",
      "17     KISHKILL JOSEPH G  0.998867\n",
      "18        BAY FRANKLIN R  0.998048\n",
      "19        PRENTICE JAMES  0.999406\n",
      "20                 TOTAL  0.002024\n",
      "21        FALLON JAMES B  0.998476\n",
      "22            METTS MARK  0.999201\n",
      "23         WODRASKA JOHN  0.998867\n",
      "24   MORDAUNT KRISTINA M  0.999406\n",
      "25      CARTER REBECCA C  0.995005\n",
      "26      BHATNAGAR SANJAY  0.002024\n",
      "27      WALTERS GARETH W  0.999406\n",
      "28       BIBI PHILIPPE A  0.998476\n",
      "29       SHERRIFF JOHN R  0.998476\n",
      "30          GIBBS DANA R  0.998867\n",
      "31        LINDHOLM TOD A  0.998867\n",
      "32       MCMAHON JEFFREY  0.998476\n"
     ]
    }
   ],
   "source": [
    "#輸出測試資料集的預測結果\n",
    "submit = pd.DataFrame(df1['name'],columns=['name'])\n",
    "submit['poi'] = POI_P[0]\n",
    "print(submit)"
   ]
  },
  {
   "cell_type": "code",
   "execution_count": 75,
   "metadata": {},
   "outputs": [
    {
     "name": "stdout",
     "output_type": "stream",
     "text": [
      "33 筆的資料中有 8 個詐欺嫌疑人!\n",
      "8 個嫌疑人的姓名是 :\n",
      "\n",
      "0       BELDEN TIMOTHY N\n",
      "1     BOWEN JR RAYMOND M\n",
      "2         HANNON KEVIN P\n",
      "3       DELAINEY DAVID W\n",
      "7            CHAN RONNIE\n",
      "13        MEYER JEROME J\n",
      "20                 TOTAL\n",
      "26      BHATNAGAR SANJAY\n",
      "Name: name, dtype: object\n"
     ]
    }
   ],
   "source": [
    "#輸出預測的嫌疑人數量及名單\n",
    "POI_num =len(submit[submit['poi'] < 0.1]['name'])\n",
    "print(f'{len(df1)} 筆的資料中有 {POI_num} 個詐欺嫌疑人!')\n",
    "print(f'{POI_num} 個嫌疑人的姓名是 :\\n')      \n",
    "print(submit[submit['poi'] < 0.1]['name'])"
   ]
  },
  {
   "cell_type": "code",
   "execution_count": 76,
   "metadata": {},
   "outputs": [],
   "source": [
    "#將嫌疑人預測結果輸出成 csv 檔案\n",
    "submit.to_csv('Enron Fraund predict.csv',index = False)"
   ]
  }
 ],
 "metadata": {
  "kernelspec": {
   "display_name": "Python 3",
   "language": "python",
   "name": "python3"
  },
  "language_info": {
   "codemirror_mode": {
    "name": "ipython",
    "version": 3
   },
   "file_extension": ".py",
   "mimetype": "text/x-python",
   "name": "python",
   "nbconvert_exporter": "python",
   "pygments_lexer": "ipython3",
   "version": "3.6.8"
  }
 },
 "nbformat": 4,
 "nbformat_minor": 2
}
